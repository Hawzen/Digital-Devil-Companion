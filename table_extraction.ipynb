{
 "cells": [
  {
   "cell_type": "code",
   "execution_count": 1,
   "metadata": {},
   "outputs": [],
   "source": [
    "import pandas"
   ]
  },
  {
   "cell_type": "code",
   "execution_count": 16,
   "metadata": {},
   "outputs": [],
   "source": [
    "dfs = pandas.read_html(\"gipig_guide.html\")"
   ]
  },
  {
   "cell_type": "code",
   "execution_count": 38,
   "metadata": {},
   "outputs": [
    {
     "data": {
      "text/plain": [
       "0     Megami\n",
       "1      Deity\n",
       "2       Vile\n",
       "3      Snake\n",
       "4     Dragon\n",
       "5     Divine\n",
       "6      Avian\n",
       "7     Fallen\n",
       "8     Avatar\n",
       "9      Beast\n",
       "10    Wilder\n",
       "11     Genma\n",
       "12     Fairy\n",
       "13    Tyrant\n",
       "14    Kishin\n",
       "15     Touki\n",
       "16      Jaki\n",
       "17     Femme\n",
       "Name: (Effects of Elements on Races, Race), dtype: object"
      ]
     },
     "execution_count": 38,
     "metadata": {},
     "output_type": "execute_result"
    }
   ],
   "source": [
    "dfs[2].iloc[:, 0]"
   ]
  },
  {
   "cell_type": "code",
   "execution_count": null,
   "metadata": {},
   "outputs": [],
   "source": []
  }
 ],
 "metadata": {
  "kernelspec": {
   "display_name": "Python 3.8.8 ('base')",
   "language": "python",
   "name": "python3"
  },
  "language_info": {
   "codemirror_mode": {
    "name": "ipython",
    "version": 3
   },
   "file_extension": ".py",
   "mimetype": "text/x-python",
   "name": "python",
   "nbconvert_exporter": "python",
   "pygments_lexer": "ipython3",
   "version": "3.8.8"
  },
  "orig_nbformat": 4,
  "vscode": {
   "interpreter": {
    "hash": "be42563fcb72fdab166ee2835c0630a01d1eec21466361e836bf90132bd8f435"
   }
  }
 },
 "nbformat": 4,
 "nbformat_minor": 2
}
